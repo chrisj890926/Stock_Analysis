{
 "cells": [
  {
   "cell_type": "code",
   "execution_count": 2,
   "metadata": {},
   "outputs": [
    {
     "name": "stdout",
     "output_type": "stream",
     "text": [
      "清單中無重複項目！\n",
      "股票清單中共有 103 支股票。\n",
      "前 10 個股票代碼為： ['AAPL', 'ABBV', 'ADBE', 'AMD', 'AMP', 'AMZN', 'ANET', 'APD', 'ASML', 'ASX']\n"
     ]
    }
   ],
   "source": [
    "def get_us_stock_tickers():\n",
    "    return sorted(set([\n",
    "        \"TSLA\", \"AAPL\", \"AMZN\", \"AMD\", \"NKE\", \"V\", \"TSM\", \"INTC\",\n",
    "        \"MSFT\", \"ADBE\", \"GOOG\", \"MU\", \"NVDA\", \"MCD\", \"SMCI\", \"BE\",\n",
    "        \"PLUG\", \"APD\", \"FCEL\", \"BLDP\", \"KO\", \"PLTR\", \"SOUN\", \"META\",\n",
    "        \"CFLT\", \"AVGO\", \"QCOM\", \"IBKR\", \"LULU\", \"DDOG\", \"ZS\", \"MDB\",\n",
    "        \"NFLX\", \"ORLY\", \"BKNG\", \"ASML\", \"INTU\", \"TPL\", \"URI\", \"UNH\",\n",
    "        \"ASX\",\n",
    "        # 新增股票代碼\n",
    "        \"DJCO\", \"PLBY\", \"ORCL\", \"PFE\", \"MRK\", \"TPR\", \"RH\", \"MSTR\",\n",
    "        \"PGR\", \"TER\", \"MRVL\", \"ANET\", \"LW\", \"CLS\", \"CIEN\", \"INTU\",\n",
    "        \"IBM\", \"BRK/B\", \"MELI\", \"COIN\", \"CRWD\", \"FICO\", \"NOW\",\n",
    "        \"HUBS\", \"IT\", \"MA\", \"ROP\", \"MPWR\", \"KLAC\", \"TYL\", \"MTD\",\n",
    "        \"LLY\", \"REGN\", \"GHC\", \"MUSA\", \"CVCO\", \"MSCI\", \"GS\", \"AMP\",\n",
    "        \"LNG\", \"PNRG\", \"TRGP\", \"PH\", \"LII\", \"SPOT\", \"CHTR\", \"MLM\",\n",
    "        \"NEU\", \"LIN\", \"COST\", \"CASY\", \"SAM\", \"EQIX\", \"PSA\", \"ESS\",\n",
    "        \"CEG\", \"VST\", \"ATO\", \"QUBT\", \"TNXP\", \"PG\", \"JNJ\", \"ABBV\"\n",
    "    ]))\n",
    "\n",
    "# 調用函數並檢查結果\n",
    "tickers = get_us_stock_tickers()\n",
    "\n",
    "# 檢查重複項\n",
    "duplicates = [ticker for ticker in tickers if tickers.count(ticker) > 1]\n",
    "if not duplicates:\n",
    "    print(\"清單中無重複項目！\")\n",
    "\n",
    "# 打印總股票數量\n",
    "print(f\"股票清單中共有 {len(tickers)} 支股票。\")\n",
    "\n",
    "# 顯示前幾個股票代碼以檢查排序\n",
    "print(\"前 10 個股票代碼為：\", tickers[:10])\n"
   ]
  }
 ],
 "metadata": {
  "kernelspec": {
   "display_name": "stock_env",
   "language": "python",
   "name": "python3"
  },
  "language_info": {
   "codemirror_mode": {
    "name": "ipython",
    "version": 3
   },
   "file_extension": ".py",
   "mimetype": "text/x-python",
   "name": "python",
   "nbconvert_exporter": "python",
   "pygments_lexer": "ipython3",
   "version": "3.9.21"
  }
 },
 "nbformat": 4,
 "nbformat_minor": 2
}
